{
 "cells": [
  {
   "cell_type": "code",
   "execution_count": 14,
   "id": "bd08820e",
   "metadata": {},
   "outputs": [],
   "source": [
    "import os\n",
    "from game.flow_free import FlowFree, FlowFreeBoard\n",
    "from algorithms.dfs import DFSPlayer\n",
    "from algorithms.astar import AStarPlayer"
   ]
  },
  {
   "cell_type": "code",
   "execution_count": 15,
   "id": "54fa8961",
   "metadata": {},
   "outputs": [],
   "source": [
    "levels_files = {\"easy\": [], \"medium\": [], \"hard\": []}\n",
    "levels_files_names = {\"easy\": [], \"medium\": [], \"hard\": []}\n",
    "for file in os.listdir(\"levels\"):\n",
    "    if file.endswith(\".txt\"):\n",
    "        \n",
    "        board, colors, level_number = file.replace(\".txt\", \"\").replace(\"_\", \" \").split()\n",
    "        row, columns = board.split(\"x\")\n",
    "\n",
    "        if int(row) * int(columns) <= 25: level = \"easy\"\n",
    "        elif int(row) * int(columns) <= 81: level = \"medium\"\n",
    "        else: level = \"hard\"\n",
    "        \n",
    "        levels_files[level].append(file)\n",
    "        levels_files_names[level].append(f\"Nivel {level_number} - Tablero {board}, {colors[:-1]} colores\")"
   ]
  },
  {
   "cell_type": "code",
   "execution_count": null,
   "id": "e52fae3a",
   "metadata": {},
   "outputs": [],
   "source": [
    "def benchmark(levels:str):\n",
    "    levels_dir = \"levels\"\n",
    "    levels_to_test = levels_files[levels]\n",
    "    players = [DFSPlayer()] # Add BFS and AStar\n",
    "    \n",
    "    for level_file in levels_to_test:\n",
    "        \n",
    "        level_path = os.path.join(levels_dir, level_file)\n",
    "        \n",
    "        board = FlowFreeBoard(level_path)\n",
    "        \n",
    "        for player in players:\n",
    "            game = FlowFree()\n",
    "            game.level = level_file\n",
    "            game.algorithms_test(player=player, board=board)"
   ]
  },
  {
   "cell_type": "code",
   "execution_count": null,
   "id": "1f53c4c7",
   "metadata": {},
   "outputs": [],
   "source": [
    "benchmark(\"easy\")"
   ]
  }
 ],
 "metadata": {
  "kernelspec": {
   "display_name": "venv",
   "language": "python",
   "name": "python3"
  },
  "language_info": {
   "codemirror_mode": {
    "name": "ipython",
    "version": 3
   },
   "file_extension": ".py",
   "mimetype": "text/x-python",
   "name": "python",
   "nbconvert_exporter": "python",
   "pygments_lexer": "ipython3",
   "version": "3.11.9"
  }
 },
 "nbformat": 4,
 "nbformat_minor": 5
}
